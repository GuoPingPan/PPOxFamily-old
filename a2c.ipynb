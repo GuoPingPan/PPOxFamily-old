{
 "cells": [
  {
   "attachments": {},
   "cell_type": "markdown",
   "metadata": {},
   "source": [
    "# A2C"
   ]
  },
  {
   "attachments": {},
   "cell_type": "markdown",
   "metadata": {},
   "source": [
    "## Definition"
   ]
  },
  {
   "cell_type": "code",
   "execution_count": 4,
   "metadata": {},
   "outputs": [],
   "source": [
    "from collections import namedtuple\n",
    "import torch\n",
    "import torch.nn.functional as F\n",
    "\n",
    "a2c_data = namedtuple('a2c_data', ['logits', 'action', 'value', 'adv', 'return_', 'weight'])\n",
    "a2c_loss = namedtuple('a2c_loss', ['policy_loss', 'value_loss', 'entropy_loss'])\n",
    "\n",
    "def a2c_error(data: namedtuple) -> namedtuple:\n",
    "    logits, action, value, adv, return_, weight = data\n",
    "\n",
    "    if weight is None:\n",
    "        weight = torch.ones_like(value)\n",
    "    \n",
    "    dist = torch.distributions.categorical.Categorical(logits=logits)\n",
    "    log_prod = dist.log_prob(action)\n",
    "\n",
    "    policy_loss = -(log_prod*adv*weight).mean()\n",
    "\n",
    "    value_loss = torch.mean(weight*(return_-value)**2)\n",
    "\n",
    "    entropy_loss = (dist.entropy()*weight).mean()\n",
    "\n",
    "    return a2c_loss(policy_loss, value_loss, entropy_loss)\n"
   ]
  },
  {
   "attachments": {},
   "cell_type": "markdown",
   "metadata": {
    "slideshow": {
     "slide_type": "notes"
    },
    "tags": [
     "test"
    ]
   },
   "source": [
    "这里对于所有隐变量发表自己的看法\n",
    "- logits：就是我们的网络分布\n",
    "- action：是我们网络中采样得到的一个实际行动\n",
    "- value：是当前情况下给出的价值函数结果\n",
    "- adv：优势函数，通过 $r_t + \\gamma v(s_{t+1}) - \\gamma v(s_{t})$ 求得\n",
    "- return_: 一个 episode 走完后的真实 reward 累积\n",
    "- weight：权重"
   ]
  },
  {
   "cell_type": "code",
   "execution_count": 5,
   "metadata": {
    "slideshow": {
     "slide_type": "subslide"
    }
   },
   "outputs": [],
   "source": [
    "def test_a2c():\n",
    "    B, N = 4, 32\n",
    "    logit = torch.randn(B, N).requires_grad_(True)\n",
    "    action = torch.randint(0, N, size=(B, ))\n",
    "    value = torch.randn(B).requires_grad_(True)\n",
    "    adv = torch.rand(B)\n",
    "    return_ = torch.randn(B) * 2\n",
    "    data = a2c_data(logit, action, value, adv, return_, None)\n",
    "\n",
    "    loss = a2c_error(data)\n",
    "\n",
    "    assert logit.grad is None\n",
    "    assert value.grad is None\n",
    "    total_loss = sum(loss)\n",
    "    total_loss.backward()\n",
    "    assert isinstance(logit.grad, torch.Tensor)\n",
    "    assert isinstance(value.grad, torch.Tensor)\n"
   ]
  },
  {
   "cell_type": "code",
   "execution_count": 6,
   "metadata": {},
   "outputs": [],
   "source": [
    "test_a2c()"
   ]
  }
 ],
 "metadata": {
  "kernelspec": {
   "display_name": "torch11",
   "language": "python",
   "name": "python3"
  },
  "language_info": {
   "codemirror_mode": {
    "name": "ipython",
    "version": 3
   },
   "file_extension": ".py",
   "mimetype": "text/x-python",
   "name": "python",
   "nbconvert_exporter": "python",
   "pygments_lexer": "ipython3",
   "version": "3.9.16"
  },
  "orig_nbformat": 4,
  "vscode": {
   "interpreter": {
    "hash": "d9a238c1dd6579231cf311ac7fb8324fa58175f6a14baf19d4e70b11c8b25d83"
   }
  }
 },
 "nbformat": 4,
 "nbformat_minor": 2
}
